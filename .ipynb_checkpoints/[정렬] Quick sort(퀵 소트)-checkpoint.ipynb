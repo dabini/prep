{
 "cells": [
  {
   "cell_type": "markdown",
   "metadata": {},
   "source": [
    "## quick sort(퀵 소트)\n",
    "\n",
    "\n",
    "- 현업에서 많이 사용되는 빠른 정렬 기법\n",
    "- 분할 정복 기법 활용\n",
    "- 기준값을 하나 선택하고 순회를 돌면서 기준값보다 작은 데이터는 좌측에, 기준값보다 큰 데이터는 우측으로 분할하고 다시 퀵 정렬을 적용"
   ]
  },
  {
   "cell_type": "markdown",
   "metadata": {},
   "source": [
    "### 성능\n",
    "\n",
    "- 평균 복잡도: O(N log N)\n",
    "- 최악의 복잡도: O(N^2)\n",
    "- 퀵 정렬의 복잡도는 다른 알고리즘 Heap Sort나 Merge Sort보다 뛰어난 것은 아니다.\n",
    "- 하지만 실제로 수행했을 때 다른 정렬 알고리즘보다도 빨라서 가장 많이 쓰이는 알고리즘이 되었다."
   ]
  },
  {
   "cell_type": "code",
   "execution_count": 1,
   "metadata": {},
   "outputs": [
    {
     "name": "stdout",
     "output_type": "stream",
     "text": [
      "[1, 2, 3, 4, 5, 5, 5, 6, 6, 7, 8, 9, 10, 11, 12]\n"
     ]
    }
   ],
   "source": [
    "def partition(data, start, end):\n",
    "    pivot = data[start]\n",
    "    \n",
    "    idx_low = start + 1\n",
    "    idx_high = end\n",
    "    \n",
    "    while idx_low <= idx_high:\n",
    "         # low가 end보다 같거나 작고, low index에 해당하는 값이 pivot값 보다 작거나 같으면 low는 오른쪽으로 계속 이동\n",
    "        while idx_low <= end and data[idx_low] <= pivot:\n",
    "            idx_low += 1\n",
    "        \n",
    "        # high가 start+1 보다 같거나 크고, higt index에 해당하는 값이 pivot값 보다 크거나 같으면 high는 왼쪽으로 계속 이동\n",
    "        while idx_high >= (start +1) and data[idx_high] >= pivot:\n",
    "            idx_high -= 1\n",
    "        \n",
    "         # low 값과 high 값을 교환\n",
    "        if idx_low <= idx_high:\n",
    "            data[idx_low], data[idx_high] = data[idx_high], data[idx_low]\n",
    "    \n",
    "    # low와 high가 교차하면 pivot과 high의 값을 교환\n",
    "    data[start], data[idx_high] = data[idx_high], data[start]\n",
    "    \n",
    "    return idx_high\n",
    "\n",
    "def quick_sort(data, start, end):\n",
    "    if start>= end:\n",
    "        return\n",
    "    \n",
    "    idx_pivot = partition(data, start, end)\n",
    "    \n",
    "    quick_sort(data, start, idx_pivot -1)\n",
    "    quick_sort(data, idx_pivot +1, end)\n",
    "    \n",
    "\n",
    "if __name__ == '__main__':\n",
    "    li = [2, 5, 4, 1, 8, 10, 5, 3, 6, 6, 5, 7, 9, 12, 11]\n",
    "    quick_sort(li, 0, len(li)-1)\n",
    "    \n",
    "    print(li)"
   ]
  },
  {
   "cell_type": "code",
   "execution_count": null,
   "metadata": {},
   "outputs": [],
   "source": []
  }
 ],
 "metadata": {
  "kernelspec": {
   "display_name": "Python 3",
   "language": "python",
   "name": "python3"
  },
  "language_info": {
   "codemirror_mode": {
    "name": "ipython",
    "version": 3
   },
   "file_extension": ".py",
   "mimetype": "text/x-python",
   "name": "python",
   "nbconvert_exporter": "python",
   "pygments_lexer": "ipython3",
   "version": "3.8.3"
  }
 },
 "nbformat": 4,
 "nbformat_minor": 4
}
