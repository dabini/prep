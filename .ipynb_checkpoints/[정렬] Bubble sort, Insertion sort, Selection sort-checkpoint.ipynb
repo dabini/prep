{
 "cells": [
  {
   "cell_type": "markdown",
   "metadata": {},
   "source": [
    "O(n^2)의 성능을 가진 버블정렬, 삽입정렬, 선택정렬"
   ]
  },
  {
   "cell_type": "markdown",
   "metadata": {},
   "source": [
    "## bubble sort(버블 정렬)\n",
    "\n",
    "- 인접한 두 원소를 검사해 정렬하는 방법\n",
    "- 시간복잡도가 O(n^2)로 상당히 느리다. 하지만 코드가 단순하기 때문에 자주 사용된다.\n"
   ]
  },
  {
   "cell_type": "code",
   "execution_count": 1,
   "metadata": {},
   "outputs": [
    {
     "name": "stdout",
     "output_type": "stream",
     "text": [
      "[1, 2, 3, 3, 4, 8, 9, 54, 65]\n"
     ]
    }
   ],
   "source": [
    "def BubbleSort(li):\n",
    "    list_length = len(li)\n",
    "    \n",
    "    for i in range(list_length -1):\n",
    "        for j in range(list_length-i-1):\n",
    "            if li[j] > li[j+1]:\n",
    "                li[j], li[j+1] = li[j+1], li[j]\n",
    "\n",
    "if __name__ == \"__main__\":\n",
    "    li = [2, 3, 65, 54,  1, 4, 8, 9, 3]\n",
    "    BubbleSort(li)\n",
    "    print(li)"
   ]
  },
  {
   "cell_type": "markdown",
   "metadata": {},
   "source": [
    "## selection sort(선택정렬)\n",
    "\n",
    "- 최소값을 선택하는 과정을 반복해서 선택정렬이라고 부른다.\n",
    "- 방법\n",
    "    1. 주어진 리스트에서 최소값을 찾는다.\n",
    "    2. 그 값을 맨 앞에 위치한 값과 교체한다.\n",
    "    3. 맨 처음 위치를 뺀 나머지 리스트를 같은 방법으로 교체한다."
   ]
  },
  {
   "cell_type": "code",
   "execution_count": 2,
   "metadata": {},
   "outputs": [
    {
     "name": "stdout",
     "output_type": "stream",
     "text": [
      "[1, 2, 5, 7, 7, 51, 54, 55, 92, 98]\n"
     ]
    }
   ],
   "source": [
    "def selection_sort(li):\n",
    "    for i in range(len(li) - 1):\n",
    "        for j in range(i+1, len(li)):\n",
    "            if li[i] > li[j]:\n",
    "                li[i], li[j] = li[j], li[i]\n",
    "    return li\n",
    "\n",
    "if __name__ == '__main__':\n",
    "    li = [98, 54 , 2, 51, 7, 92, 55, 1, 5, 7]\n",
    "    selection_sort(li)\n",
    "    print(li)"
   ]
  },
  {
   "cell_type": "markdown",
   "metadata": {},
   "source": [
    "## insertion sort(삽입 정렬)\n",
    "\n",
    "- 작은 원소를 골라 앞쪽부터 정렬\n",
    "- 자료 배열의 모든 요소를 앞에서부터 차례대로 이미 정렬된 배열 부분과 비교하여, 자신의 위치를 찾아 삽입함으로써 정렬을 완성하는 알고리즘\n",
    "- 최악의 경우 O(n^2)의 시간복잡도를 가짐\n",
    "- 하지만 안쪽 루프에 군더더기가 없기 때문에 입력 크기가 작은 경우 빠른 내부 정렬 알고리즘"
   ]
  },
  {
   "cell_type": "code",
   "execution_count": 4,
   "metadata": {},
   "outputs": [
    {
     "name": "stdout",
     "output_type": "stream",
     "text": [
      "[1, 2, 3, 4, 4, 5, 5, 7, 8, 9, 41]\n"
     ]
    }
   ],
   "source": [
    "def insertion_sort(li):\n",
    "    for i in range(1, len(li)):\n",
    "        j = i-1\n",
    "        key = li[i]\n",
    "        while li[j] > key and j >=0:\n",
    "            li[j+1] = li[j]\n",
    "            j -= 1\n",
    "        li[j+1] = key\n",
    "    return li\n",
    "\n",
    "if __name__ ==\"__main__\":\n",
    "    li = [4, 8, 7, 4, 3, 9, 1, 5, 41, 2, 5]\n",
    "    insertion_sort(li)\n",
    "    print(li)"
   ]
  }
 ],
 "metadata": {
  "kernelspec": {
   "display_name": "Python 3",
   "language": "python",
   "name": "python3"
  },
  "language_info": {
   "codemirror_mode": {
    "name": "ipython",
    "version": 3
   },
   "file_extension": ".py",
   "mimetype": "text/x-python",
   "name": "python",
   "nbconvert_exporter": "python",
   "pygments_lexer": "ipython3",
   "version": "3.8.3"
  }
 },
 "nbformat": 4,
 "nbformat_minor": 4
}
